{
 "cells": [
  {
   "cell_type": "code",
   "execution_count": null,
   "id": "a306fad4",
   "metadata": {},
   "outputs": [],
   "source": [
    "import pandas as pd\n",
    "import matplotlib.pyplot as plt\n",
    "\n",
    "# 1. 加载数据集并输出头部信息\n",
    "data = pd.read_csv(\"A地区的天气数据.csv\")\n",
    "print(data.head())"
   ]
  },
  {
   "cell_type": "code",
   "execution_count": null,
   "id": "d7bab285",
   "metadata": {},
   "outputs": [],
   "source": [
    "# 2. 计算2009年1-11月份的每月的平均压力差，并按照平均压力差从大到小排序\n",
    "data['日期'] = pd.to_datetime(data['日期'])\n",
    "\n",
    "data_2009 = data[data['日期'].dt.year == 2009]\n",
    "\n",
    "monthly_pressure_diff = data_2009.groupby('月份')['压力差'].mean().sort_values(ascending=False)\n",
    "print(monthly_pressure_diff)\n"
   ]
  },
  {
   "cell_type": "code",
   "execution_count": null,
   "id": "457055c6",
   "metadata": {},
   "outputs": [],
   "source": [
    "max_pressure_diff_month = monthly_pressure_diff.index[0]\n",
    "\n",
    "data_month = data_2009[data_2009['月份'] == max_pressure_diff_month]\n",
    "data_month = data_month.sort_values(by='日期') \n",
    "\n",
    "\n",
    "plt.figure(figsize=(12, 6))  # 设置图形的宽度和高度\n",
    "plt.plot(data_month['日期'], data_month['压力差'], marker='o', linestyle='-', linewidth=2)  # 绘制折线图并添加数据点\n",
    "plt.scatter(data_month['日期'], data_month['压力差'])  # 添加数据点\n",
    "plt.xlabel('日期')\n",
    "plt.ylabel('压力差')\n",
    "plt.title(f'{max_pressure_diff_month}月份每天的压力差')\n",
    "plt.grid(True)  # 添加网格\n",
    "plt.show()"
   ]
  }
 ],
 "metadata": {
  "kernelspec": {
   "display_name": "Python 3",
   "language": "python",
   "name": "python3"
  },
  "language_info": {
   "codemirror_mode": {
    "name": "ipython",
    "version": 3
   },
   "file_extension": ".py",
   "mimetype": "text/x-python",
   "name": "python",
   "nbconvert_exporter": "python",
   "pygments_lexer": "ipython3",
   "version": "3.7.8"
  }
 },
 "nbformat": 4,
 "nbformat_minor": 5
}
