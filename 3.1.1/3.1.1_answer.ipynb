{
 "cells": [
  {
   "cell_type": "code",
   "execution_count": null,
   "id": "a609ed2b",
   "metadata": {},
   "outputs": [],
   "source": [
    "import pandas as pd\n",
    "import matplotlib.pyplot as plt\n",
    "# 加载数据集\n",
    "data = pd.read_csv(\"A超市的销售数据.csv\")\n",
    "\n",
    "# 打印数据集的前几行\n",
    "(data.head())"
   ]
  },
  {
   "cell_type": "code",
   "execution_count": null,
   "id": "1cbf514f",
   "metadata": {},
   "outputs": [],
   "source": [
    "# 统计大类名称个数\n",
    "unique_categories_count = data[\"大类名称\"].nunique()\n",
    "print(f\"大类名称个数: {unique_categories_count}\")"
   ]
  },
  {
   "cell_type": "code",
   "execution_count": null,
   "id": "e43fdff5",
   "metadata": {},
   "outputs": [],
   "source": [
    "\n",
    "max_sales_category = sorted_category_sales.idxmax()\n",
    "\n",
    "# 筛选出该大类下的数据\n",
    "sub_data = data[data[\"大类名称\"] == max_sales_category]\n",
    "\n",
    "# 计算该大类下各小类的销售总金额\n",
    "sub_category_sales_sum = sub_data.groupby(\"小类名称\")[\"销售金额\"].sum()\n",
    "\n",
    "# 选择销售总金额最大的前15个小类\n",
    "top_15_sub_categories = sub_category_sales_sum.head(15)\n",
    "\n",
    "# 绘制柱状图\n",
    "plt.figure(figsize=(12, 6))\n",
    "top_15_sub_categories.plot(kind=\"bar\")\n",
    "plt.title(f\"{max_sales_category} 下销售总金额最大的前15个小类分布\")\n",
    "plt.xlabel(\"小类名称\")\n",
    "plt.ylabel(\"销售金额\")\n",
    "plt.xticks(rotation=45)\n",
    "plt.show()"
   ]
  }
 ],
 "metadata": {
  "kernelspec": {
   "display_name": "Python 3",
   "language": "python",
   "name": "python3"
  },
  "language_info": {
   "codemirror_mode": {
    "name": "ipython",
    "version": 3
   },
   "file_extension": ".py",
   "mimetype": "text/x-python",
   "name": "python",
   "nbconvert_exporter": "python",
   "pygments_lexer": "ipython3",
   "version": "3.7.8rc1"
  }
 },
 "nbformat": 4,
 "nbformat_minor": 5
}
