{
 "cells": [
  {
   "cell_type": "code",
   "execution_count": null,
   "id": "918ce93e",
   "metadata": {},
   "outputs": [],
   "source": [
    "import pandas as pd\n",
    "import matplotlib.pyplot as plt\n",
    "\n",
    "# 1. 加载数据集并输出“地区”为“黄浦”的数据的头部信息\n",
    "data = pd.read_csv(\"各地区房屋挂牌数据.csv\")\n",
    "huangpu_data = data[data['地区'] == '黄浦']\n",
    "print(huangpu_data.head())"
   ]
  },
  {
   "cell_type": "code",
   "execution_count": null,
   "id": "5fa99488",
   "metadata": {},
   "outputs": [],
   "source": [
    "# 2. 计算“城市”为“上海”的每个地区的平均“单价(每平方米)”，并按照从高到低排序\n",
    "shanghai_data = data[data['城市']== '上海']\n",
    "avg_price_per_area = shanghai_data.groupby('地区')['单价(每平方米)'].mean().sort_values(ascending=False)\n",
    "print(avg_price_per_area)"
   ]
  },
  {
   "cell_type": "code",
   "execution_count": null,
   "id": "3bd1c6e2",
   "metadata": {},
   "outputs": [],
   "source": [
    "# 3. 计算“城市”为“上海”的所有地区中“单价(每平方米)”平均值最高的地区，同时分析该地区不同“装修风格”的平均单价分布\n",
    "highest_avg_price_area = avg_price_per_area.idxmax()\n",
    "highest_avg_price_area_data = shanghai_data[shanghai_data['地区'] == highest_avg_price_area]\n",
    "avg_price_by_style = highest_avg_price_area_data.groupby(\"装修风格\")[\"单价(每平方米)\"].mean()\n",
    "\n",
    "# 绘制柱状图\n",
    "plt.figure(figsize=(10, 6))\n",
    "avg_price_by_style.sort_values(ascending=False).head(10).plot(kind=\"bar\")\n",
    "plt.xlabel(\"装修风格\")\n",
    "plt.ylabel(\"平均单价(每平方米)\")\n",
    "plt.title(f\"{highest_avg_price_area}地区不同装修风格的平均单价分布\")\n",
    "plt.show()"
   ]
  }
 ],
 "metadata": {
  "kernelspec": {
   "display_name": "Python 3",
   "language": "python",
   "name": "python3"
  },
  "language_info": {
   "codemirror_mode": {
    "name": "ipython",
    "version": 3
   },
   "file_extension": ".py",
   "mimetype": "text/x-python",
   "name": "python",
   "nbconvert_exporter": "python",
   "pygments_lexer": "ipython3",
   "version": "3.7.8rc1"
  }
 },
 "nbformat": 4,
 "nbformat_minor": 5
}
