{
 "cells": [
  {
   "cell_type": "code",
   "execution_count": null,
   "id": "39bbf524",
   "metadata": {},
   "outputs": [],
   "source": [
    "import pandas as pd\n",
    "from datetime import datetime\n",
    "# 加载数据集         2分\n",
    "data = pd.__________('__________')\n",
    "\n",
    "#  显示前5行数据     2分\n",
    "print(__________.__________)  "
   ]
  },
  {
   "cell_type": "code",
   "execution_count": null,
   "id": "4a903c94",
   "metadata": {},
   "outputs": [],
   "source": [
    "# 删除领券和消费时间中包含空值的行  2分\n",
    "data.dropna(subset=['__________', '__________'], inplace=True)\n",
    "print(data)\n",
    "\n",
    "# 将日期数据标准化为：年-月-日     2分\n",
    "data['领券日期'] = pd.to_datetime(data['__________'], format='%Y%m%d')\n",
    "data['消费日期'] = pd.to_datetime(data['__________'], format='%Y%m%d')\n",
    "\n",
    "# 移除消费日期早于领券日期的记录     2分\n",
    "data = __________[data['消费日期'] __________ data['领券日期']]\n",
    "print(data.head())\n",
    "  \n",
    "# 增加新特征列“领券到消费天数”    2分\n",
    "data['领券到消费天数'] = (data['__________'] - data['__________']).dt.days  #领券到消费的时间差\n",
    "print(data.head())"
   ]
  },
  {
   "cell_type": "code",
   "execution_count": null,
   "id": "d15ff50a",
   "metadata": {},
   "outputs": [],
   "source": [
    "# 用户领取优惠券到消费的最常见消费间隔\n",
    "most_common_interval = data['领券到消费天数'].mode()[0]\n",
    "print(f\"最常见消费间隔天数: {most_common_interval}\")"
   ]
  },
  {
   "cell_type": "code",
   "execution_count": null,
   "id": "e35ace5a",
   "metadata": {},
   "outputs": [],
   "source": []
  }
 ],
 "metadata": {
  "kernelspec": {
   "display_name": "Python 3 (ipykernel)",
   "language": "python",
   "name": "python3"
  },
  "language_info": {
   "codemirror_mode": {
    "name": "ipython",
    "version": 3
   },
   "file_extension": ".py",
   "mimetype": "text/x-python",
   "name": "python",
   "nbconvert_exporter": "python",
   "pygments_lexer": "ipython3",
   "version": "3.9.7"
  }
 },
 "nbformat": 4,
 "nbformat_minor": 5
}
