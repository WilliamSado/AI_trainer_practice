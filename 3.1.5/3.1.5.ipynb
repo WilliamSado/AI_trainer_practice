{
 "cells": [
  {
   "cell_type": "code",
   "execution_count": null,
   "id": "4fe13047",
   "metadata": {},
   "outputs": [],
   "source": [
    "import pandas as pd\n",
    "import matplotlib.pyplot as plt\n",
    "\n",
    "# 加载数据集\n",
    "data = pd._____(\"电影票销售数据集.csv\")\n",
    "# 筛选“电影代码”为“33”的数据\n",
    "movie_33_data = data[_____]\n",
    "\n",
    "# 输出头部信息\n",
    "print(movie_33_data._____)"
   ]
  },
  {
   "cell_type": "code",
   "execution_count": null,
   "id": "1bc10a93",
   "metadata": {},
   "outputs": [],
   "source": [
    "# 按照“电影院代码”分组，计算平均“总售票金额”和平均“售票数”\n",
    "avg_data = data._____(\"电影院代码\")._____({\"总售票金额\": \"mean\", \"售票数\": \"mean\"})\n",
    "\n",
    "# 按照平均“总售票金额”从高到低排序\n",
    "sorted_avg_data = avg_data.sort_values(by=\"_____\", ascending=_____)\n",
    "\n",
    "# 输出前15条记录\n",
    "print(sorted_avg_data._____)"
   ]
  },
  {
   "cell_type": "code",
   "execution_count": null,
   "id": "49bfa157",
   "metadata": {},
   "outputs": [],
   "source": [
    "# 计算“总售票金额”最高的电影院代码\n",
    "max_revenue_cinema_code = sorted_avg_data._____\n",
    "\n",
    "# 筛选出该电影院的数据\n",
    "max_revenue_cinema_data = data[_____ == max_revenue_cinema_code]\n",
    "\n",
    "# 按照“开场时间”分组，计算总售票金额\n",
    "opening_time_revenue = max_revenue_cinema_data._____(\"开场时间\")[\"总售票金额\"]._____\n",
    "print(opening_time_revenue)\n",
    "\n",
    "# 绘制柱状图\n",
    "plt.figure(figsize=(12, 6))\n",
    "\n",
    "plt.bar(opening_time_revenue._____, opening_time_revenue._____)\n",
    "plt.xlabel(\"开场时间\")\n",
    "plt.ylabel(\"总售票金额\")\n",
    "plt.title(f\"{max_revenue_cinema_code}电影院不同开场时间的总售票金额分布\")\n",
    "\n",
    "plt.xticks(rotation=45)\n",
    "plt.show()"
   ]
  },
  {
   "cell_type": "code",
   "execution_count": null,
   "id": "3b156e3b",
   "metadata": {},
   "outputs": [],
   "source": []
  }
 ],
 "metadata": {
  "kernelspec": {
   "display_name": "Python 3 (ipykernel)",
   "language": "python",
   "name": "python3"
  },
  "language_info": {
   "codemirror_mode": {
    "name": "ipython",
    "version": 3
   },
   "file_extension": ".py",
   "mimetype": "text/x-python",
   "name": "python",
   "nbconvert_exporter": "python",
   "pygments_lexer": "ipython3",
   "version": "3.9.7"
  }
 },
 "nbformat": 4,
 "nbformat_minor": 5
}
