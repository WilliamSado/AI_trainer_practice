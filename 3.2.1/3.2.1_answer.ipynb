{
 "cells": [
  {
   "cell_type": "code",
   "execution_count": null,
   "id": "b19165d8",
   "metadata": {},
   "outputs": [],
   "source": [
    "import pandas as pd\n",
    "# 正确加载数据集   2分\n",
    "fdata=pd.read_excel('bill.xls') \n",
    "\n",
    "# 显示前5行   2分\n",
    "print(fdata.head())\n",
    "\n",
    "# 查看数据总体形状(shape)  2分\n",
    "print(fdata.shape)\n",
    "\n",
    "# 查看数据的描述信息    2分\n",
    "print(fdata.describe())"
   ]
  },
  {
   "cell_type": "code",
   "execution_count": null,
   "id": "0398b9e7",
   "metadata": {},
   "outputs": [],
   "source": [
    "# 增加一列“人均消费”    2分\n",
    "fdata['人均消费']=round(fdata['消费总额']/fdata['就餐人数'],2)\n",
    "print(fdata.head())  "
   ]
  },
  {
   "cell_type": "code",
   "execution_count": null,
   "id": "10fcd6cf",
   "metadata": {},
   "outputs": [],
   "source": [
    "# 计算小费与总金额的协方差  2分\n",
    "fdata['消费总额'].cov(fdata['小费'])\n",
    "\n",
    "# 计算男性、女性的小费平均值  2分    \n",
    "fdata.groupby('性别')['小费'].mean()"
   ]
  }
 ],
 "metadata": {
  "kernelspec": {
   "display_name": "Python 3 (ipykernel)",
   "language": "python",
   "name": "python3"
  },
  "language_info": {
   "codemirror_mode": {
    "name": "ipython",
    "version": 3
   },
   "file_extension": ".py",
   "mimetype": "text/x-python",
   "name": "python",
   "nbconvert_exporter": "python",
   "pygments_lexer": "ipython3",
   "version": "3.9.7"
  }
 },
 "nbformat": 4,
 "nbformat_minor": 5
}
