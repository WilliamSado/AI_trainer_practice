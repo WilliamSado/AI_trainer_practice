{
 "cells": [
  {
   "cell_type": "code",
   "execution_count": null,
   "id": "4e985994",
   "metadata": {},
   "outputs": [],
   "source": [
    "import pandas as pd\n",
    "import pandas as pd\n",
    "from datetime import datetime\n",
    "# 加载数据集   2分\n",
    "df = pd.read_csv('user_table.csv')\n",
    "\n",
    "# 将出生日期转换为日期时间格式“年-月-日”    2分\n",
    "df['birthday'] = pd.to_datetime(df['birthday'], format='%Y%m%d') \n",
    "print(df.head())"
   ]
  },
  {
   "cell_type": "code",
   "execution_count": null,
   "id": "3f59ca6c",
   "metadata": {},
   "outputs": [],
   "source": [
    "# 筛选出生日期在2000年1月1日及之前的异常数据  2分\n",
    "abnormal_birthdays = df[df['birthday'] <= '2000-01-01']\n",
    "print(abnormal_birthdays)"
   ]
  },
  {
   "cell_type": "code",
   "execution_count": null,
   "id": "d7e0eea8",
   "metadata": {},
   "outputs": [],
   "source": [
    "# 去除异常出生日期数据    2分\n",
    "df = df[df['birthday']> '2000-01-01'] \n",
    "\n",
    "# 查看性别列的每个不同值的出现次数  \n",
    "print(df['gender'].value_counts()) "
   ]
  },
  {
   "cell_type": "code",
   "execution_count": null,
   "id": "da29baaa",
   "metadata": {},
   "outputs": [],
   "source": [
    "# 修正性别数据，2替换为0    2分\n",
    "df['gender'].replace(2,0, inplace=True)  \n",
    "df['gender'].value_counts()\n",
    "\n",
    "# 计算总用户数     2分\n",
    "total_users = len(df)          \n",
    "\n",
    "# 计算男性和女性用户的数量   3分\n",
    "gender_counts = df['gender'].value_counts()\n",
    "male_count = gender_counts.get(1, 0)  # 获取男性数量，如果没有，默认为0\n",
    "female_count = gender_counts.get(0, 0) # 获取女性数量，如果没有，默认为0\n",
    "print(f\"总用户数：{total_users}\")\n",
    "print(f\"男性用户数：{male_count}\")\n",
    "print(f\"女性用户数：{female_count}\")    # 输出结果"
   ]
  },
  {
   "cell_type": "code",
   "execution_count": null,
   "id": "01d90e24",
   "metadata": {},
   "outputs": [],
   "source": [
    "# 识别用户群体中的主要年龄段(排名前三)  2分 \n",
    "current_date = pd.Timestamp('now')  # 获取当前日期时间\n",
    "df['age'] = (current_date - df['birthday']).dt.days//365  # 将天数转换为年数（近似）\n",
    "print(df.head())\n",
    "age_distribution = df['age'].value_counts().sort_index()\n",
    "print(age_distribution)"
   ]
  }
 ],
 "metadata": {
  "kernelspec": {
   "display_name": "Python 3",
   "language": "python",
   "name": "python3"
  },
  "language_info": {
   "codemirror_mode": {
    "name": "ipython",
    "version": 3
   },
   "file_extension": ".py",
   "mimetype": "text/x-python",
   "name": "python",
   "nbconvert_exporter": "python",
   "pygments_lexer": "ipython3",
   "version": "3.7.8"
  }
 },
 "nbformat": 4,
 "nbformat_minor": 5
}
