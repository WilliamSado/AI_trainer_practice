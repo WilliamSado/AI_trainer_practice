{
 "cells": [
  {
   "cell_type": "code",
   "execution_count": null,
   "id": "9ac84454",
   "metadata": {},
   "outputs": [],
   "source": [
    "import pandas as pd\n",
    "from datetime import datetime\n",
    "# 正确加载数据集   2分\n",
    "data = pd.__________('__________')\n",
    "\n",
    "# 显示前5行  2分\n",
    "print(__________.__________)\n",
    "\n",
    "# 查看数据的描述信息  2分\n",
    "print(__________.__________)"
   ]
  },
  {
   "cell_type": "code",
   "execution_count": null,
   "id": "8c18e803",
   "metadata": {},
   "outputs": [],
   "source": [
    "# 去除交易数量异常数据（假设单笔购买超过1000件为异常）  2分\n",
    "data = data[(data['buy_mount'] > __________) &(data['buy_mount'] <= __________)]  \n",
    "\n",
    "# 将交易日期标准化为日期格式：年-月-日    2分\n",
    "data['day'] = pd.__________(data['day'], __________='%Y%m%d')\n",
    "print(data.head())"
   ]
  },
  {
   "cell_type": "code",
   "execution_count": null,
   "id": "a2353fb1",
   "metadata": {},
   "outputs": [],
   "source": [
    "# 计算交易总量  2分\n",
    "total_transactions = __________.__________\n",
    "print(total_transactions)\n",
    "\n",
    "# 识别销量排名前三的商品类别  2分\n",
    "top_categories = data.__________('category')['buy_mount'].sum().nlargest(__________)\n",
    "print(\"销量排名前三的商品类别:\")\n",
    "print(top_categories)"
   ]
  }
 ],
 "metadata": {
  "kernelspec": {
   "display_name": "Python 3 (ipykernel)",
   "language": "python",
   "name": "python3"
  },
  "language_info": {
   "codemirror_mode": {
    "name": "ipython",
    "version": 3
   },
   "file_extension": ".py",
   "mimetype": "text/x-python",
   "name": "python",
   "nbconvert_exporter": "python",
   "pygments_lexer": "ipython3",
   "version": "3.9.7"
  }
 },
 "nbformat": 4,
 "nbformat_minor": 5
}
