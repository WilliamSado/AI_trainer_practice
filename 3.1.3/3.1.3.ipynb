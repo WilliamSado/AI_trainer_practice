{
 "cells": [
  {
   "cell_type": "code",
   "execution_count": null,
   "id": "38edfbd4",
   "metadata": {},
   "outputs": [],
   "source": [
    "import pandas as pd\n",
    "import matplotlib.pyplot as plt\n",
    "\n",
    "# 1. 加载数据集并输出“行政区”字段为“浦东新区”的数据头部信息\n",
    "data = pd._____(\"上海餐饮数据.csv\")\n",
    "pudong_data = data[data['行政区'] == '浦东新区']\n",
    "print(pudong_data._____)"
   ]
  },
  {
   "cell_type": "code",
   "execution_count": null,
   "id": "b36f9228",
   "metadata": {},
   "outputs": [],
   "source": [
    "# 2. 计算每个行政区的平均“口味”、“环境”和“服务”评分，并按照综合评分从高到低排序\n",
    "data = data[_____]  # 不包含“未知”行政区\n",
    "data['综合评分'] = data[['口味', '环境', '服务']]._____(axis=1)\n",
    "avg_scores_by_district = data._____('行政区')[['口味', '环境', '服务', '综合评分']]._____.sort_values(by='综合评分', ascending=False)\n",
    "print(avg_scores_by_district)"
   ]
  },
  {
   "cell_type": "code",
   "execution_count": null,
   "id": "e771cf61",
   "metadata": {
    "scrolled": true
   },
   "outputs": [],
   "source": [
    "# 3. 选择综合评分最高的行政区，以人均消费最高的前15个类别并以柱形图的方式展示\n",
    "highest_score_district = avg_scores_by_district._____\n",
    "#print(highest_score_district)\n",
    "highest_score_district_data = data[data['行政区'] == _____]\n",
    "#print(highest_score_district_data)\n",
    "# 按类别分组，计算人均消费的平均值\n",
    "avg_consumption_by_category = highest_score_district_data._____('类别')['人均消费']._____.sort_values(ascending=False)\n",
    "\n",
    "# 取前15个类别\n",
    "top_15_categories = avg_consumption_by_category._____\n",
    "\n",
    "plt.figure(figsize=(12, 6))\n",
    "top_15_categories.plot(kind='bar')\n",
    "plt.xlabel('类别')\n",
    "plt.ylabel('人均消费平均值')\n",
    "plt.title(f'{highest_score_district}人均消费最高的前15个类别')\n",
    "plt.xticks(rotation=45)\n",
    "plt.show()"
   ]
  },
  {
   "cell_type": "code",
   "execution_count": null,
   "id": "1a5d637a",
   "metadata": {},
   "outputs": [],
   "source": []
  },
  {
   "cell_type": "code",
   "execution_count": null,
   "id": "3321e073",
   "metadata": {},
   "outputs": [],
   "source": []
  }
 ],
 "metadata": {
  "kernelspec": {
   "display_name": "Python 3 (ipykernel)",
   "language": "python",
   "name": "python3"
  },
  "language_info": {
   "codemirror_mode": {
    "name": "ipython",
    "version": 3
   },
   "file_extension": ".py",
   "mimetype": "text/x-python",
   "name": "python",
   "nbconvert_exporter": "python",
   "pygments_lexer": "ipython3",
   "version": "3.9.7"
  }
 },
 "nbformat": 4,
 "nbformat_minor": 5
}
