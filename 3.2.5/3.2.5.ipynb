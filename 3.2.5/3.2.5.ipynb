{
 "cells": [
  {
   "cell_type": "code",
   "execution_count": null,
   "id": "e054cd29",
   "metadata": {},
   "outputs": [],
   "source": [
    "import pandas as pd\n",
    "# 加载数据     2分\n",
    "data = pd.__________('__________')\n",
    "\n",
    "# 输出数据前5行     2分\n",
    "print(\"前五行数据：\")\n",
    "print(__________.__________)\n",
    " \n",
    "# 描述性统计分析     2分\n",
    "print(\"基本统计摘要：\")\n",
    "print(__________.__________)"
   ]
  },
  {
   "cell_type": "code",
   "execution_count": null,
   "id": "70497aea",
   "metadata": {},
   "outputs": [],
   "source": [
    "# 绘制工作年限与薪资的散点图    2分\n",
    "import matplotlib.pyplot as plt\n",
    "plt.figure(figsize=(8, 6))\n",
    "plt.scatter(data['__________'], data['__________'], color='blue', label='Data points')\n",
    "plt.title('Relationship between Years of Experience and Salary')\n",
    "plt.xlabel('Years of Experience')\n",
    "plt.ylabel('Salary')\n",
    "plt.show()"
   ]
  },
  {
   "cell_type": "code",
   "execution_count": null,
   "id": "cbeb5a68",
   "metadata": {},
   "outputs": [],
   "source": [
    "# 线性回归建模        2分\n",
    "from sklearn.linear_model import LinearRegression\n",
    "X = data[['__________']]  # 特征：员工工作年限\n",
    "y = data['__________']  # 目标变量：薪资\n",
    "model = LinearRegression() # 创建线性回归模型\n",
    "model.fit(X, y)  # 拟合模型\n",
    "# 输出模型的系数和截距        2分\n",
    "print(\"系数:\", model.__________)\n",
    "print(\"截距:\", model.__________)"
   ]
  },
  {
   "cell_type": "code",
   "execution_count": null,
   "id": "f0ad73c8",
   "metadata": {},
   "outputs": [],
   "source": [
    "# 预测薪资     2分\n",
    "new_experience = pd.DataFrame({'YearsExperience': [7]})\n",
    "predicted_salary = model.__________(__________) # 使用已经拟合好的模型进行预测\n",
    "print(\"预测的薪资:\", predicted_salary[0]) # 打印预测的薪资"
   ]
  }
 ],
 "metadata": {
  "kernelspec": {
   "display_name": "Python 3 (ipykernel)",
   "language": "python",
   "name": "python3"
  },
  "language_info": {
   "codemirror_mode": {
    "name": "ipython",
    "version": 3
   },
   "file_extension": ".py",
   "mimetype": "text/x-python",
   "name": "python",
   "nbconvert_exporter": "python",
   "pygments_lexer": "ipython3",
   "version": "3.9.7"
  }
 },
 "nbformat": 4,
 "nbformat_minor": 5
}
